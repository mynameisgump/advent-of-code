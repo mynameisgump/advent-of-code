{
 "cells": [
  {
   "cell_type": "code",
   "execution_count": 22,
   "metadata": {},
   "outputs": [],
   "source": [
    "filename=\"input.txt\"\n",
    "commands=[]\n",
    "with open(filename) as f:\n",
    "    commands = [line.rstrip().split(\" \") for line in f.readlines()]\n",
    "#print(commands)\n"
   ]
  },
  {
   "cell_type": "code",
   "execution_count": 52,
   "metadata": {},
   "outputs": [
    {
     "name": "stdout",
     "output_type": "stream",
     "text": [
      "191\n",
      "1443806\n"
     ]
    }
   ],
   "source": [
    "class Tree:\n",
    "    def __init__(self, data, name):\n",
    "        self.children = []\n",
    "        self.data_size = data_size\n",
    "        self.name = name\n",
    "\n",
    "files = {}\n",
    "directories = [\"/\"]\n",
    "dirSums = {}\n",
    "\n",
    "currentDir = \"/\"\n",
    "for command in commands:\n",
    "    if command[0] == \"$\":\n",
    "        if command[1] == \"cd\":\n",
    "            if command[2] == \"/\":\n",
    "                currentDir = \"/\"\n",
    "            elif command[2] == \"..\":\n",
    "                #print(\"Boutta Back\")\n",
    "                #print(currentDir.split(\"/\"))\n",
    "                index = currentDir.rfind(currentDir.split(\"/\")[-2])\n",
    "                currentDir = currentDir[:index]\n",
    "            else:\n",
    "                currentDir += (command[2]+\"/\")\n",
    "                if currentDir not in directories:\n",
    "                    directories.append(currentDir)\n",
    "            #print(\"Current dir: \"+currentDir)\n",
    "\n",
    "    else:\n",
    "        if command[0] != \"dir\":\n",
    "            files[currentDir+command[1]] = command[0]\n",
    "directories.sort(key=lambda x: x.count('/'))\n",
    "directories.reverse()\n",
    "\n",
    "#print(files)\n",
    "#print(directories)\n",
    "#print(files)\n",
    "\n",
    "for dir in directories:\n",
    "    dirFiles = [ v for k,v in files.items() if dir in k]\n",
    "    dirFiles = list(map(int, dirFiles))\n",
    "    #print(dirFiles)\n",
    "    dirSums[dir] = sum(dirFiles)\n",
    "print(len(sorted( ((v,k) for k,v in dirSums.items()), reverse=True)))\n",
    "\n",
    "finalDirs = dict(filter(lambda elem: elem[1] < 100000,dirSums.items()))\n",
    "#print(finalDirs)\n",
    "print(sum(finalDirs.values()))"
   ]
  },
  {
   "cell_type": "code",
   "execution_count": 59,
   "metadata": {},
   "outputs": [
    {
     "name": "stdout",
     "output_type": "stream",
     "text": [
      "913445\n",
      "/jssbn/tlhttrgs/zjghthcb/lfrctthp/\n",
      "942298\n"
     ]
    }
   ],
   "source": [
    "class Tree:\n",
    "    def __init__(self, data, name):\n",
    "        self.children = []\n",
    "        self.data_size = data_size\n",
    "        self.name = name\n",
    "\n",
    "files = {}\n",
    "directories = [\"/\"]\n",
    "dirSums = {}\n",
    "\n",
    "currentDir = \"/\"\n",
    "for command in commands:\n",
    "    if command[0] == \"$\":\n",
    "        if command[1] == \"cd\":\n",
    "            if command[2] == \"/\":\n",
    "                currentDir = \"/\"\n",
    "            elif command[2] == \"..\":\n",
    "                #print(\"Boutta Back\")\n",
    "                #print(currentDir.split(\"/\"))\n",
    "                index = currentDir.rfind(currentDir.split(\"/\")[-2])\n",
    "                currentDir = currentDir[:index]\n",
    "            else:\n",
    "                currentDir += (command[2]+\"/\")\n",
    "                if currentDir not in directories:\n",
    "                    directories.append(currentDir)\n",
    "            #print(\"Current dir: \"+currentDir)\n",
    "\n",
    "    else:\n",
    "        if command[0] != \"dir\":\n",
    "            files[currentDir+command[1]] = command[0]\n",
    "directories.sort(key=lambda x: x.count('/'))\n",
    "directories.reverse()\n",
    "\n",
    "for dir in directories:\n",
    "    dirFiles = [ v for k,v in files.items() if dir in k]\n",
    "    dirFiles = list(map(int, dirFiles))\n",
    "    dirSums[dir] = sum(dirFiles)\n",
    "#print(dirSums)\n",
    "\n",
    "finalDirs = dict(filter(lambda elem: elem[1] < 100000,dirSums.items()))\n",
    "finalSum = sum(finalDirs.values())\n",
    "\n",
    "toFree = 30000000-70000000-dirSums[\"/\"]*-1\n",
    "\n",
    "dirToDelete = \"\"\n",
    "for k in sorted(dirSums, key=lambda k: dirSums[k], reverse=True):\n",
    "    if dirSums[k] > toFree:\n",
    "        dirToDelete=k\n",
    "    else:\n",
    "        break\n",
    "print(toFree)\n",
    "print(dirToDelete)\n",
    "print(dirSums[\"/jssbn/tlhttrgs/zjghthcb/lfrctthp/\"])"
   ]
  }
 ],
 "metadata": {
  "kernelspec": {
   "display_name": "Python 3.11.0 64-bit",
   "language": "python",
   "name": "python3"
  },
  "language_info": {
   "codemirror_mode": {
    "name": "ipython",
    "version": 3
   },
   "file_extension": ".py",
   "mimetype": "text/x-python",
   "name": "python",
   "nbconvert_exporter": "python",
   "pygments_lexer": "ipython3",
   "version": "3.11.0"
  },
  "orig_nbformat": 4,
  "vscode": {
   "interpreter": {
    "hash": "aee8b7b246df8f9039afb4144a1f6fd8d2ca17a180786b69acc140d282b71a49"
   }
  }
 },
 "nbformat": 4,
 "nbformat_minor": 2
}

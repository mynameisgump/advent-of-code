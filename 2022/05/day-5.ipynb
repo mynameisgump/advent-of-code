{
 "cells": [
  {
   "cell_type": "markdown",
   "metadata": {},
   "source": [
    "# Reading and Parsing Input:"
   ]
  },
  {
   "cell_type": "code",
   "execution_count": 138,
   "metadata": {},
   "outputs": [],
   "source": [
    "crates = []\n",
    "procedure = []"
   ]
  },
  {
   "cell_type": "code",
   "execution_count": 182,
   "metadata": {},
   "outputs": [],
   "source": [
    "if __name__ == \"__main__\":\n",
    "    filename=\"input.txt\"\n",
    "    with open(filename) as f:\n",
    "\n",
    "        crates_input,procedure_input =  f.read().split(\"\\n\\n\")#[line.rstrip() for line in f]"
   ]
  },
  {
   "cell_type": "code",
   "execution_count": 137,
   "metadata": {},
   "outputs": [],
   "source": [
    "# Divide into chunks\n",
    "def split_line(n, line):\n",
    "    return [line[i:i+n] for i in range(0, len(line), n)]"
   ]
  },
  {
   "cell_type": "markdown",
   "metadata": {},
   "source": [
    "# Part 1"
   ]
  },
  {
   "cell_type": "markdown",
   "metadata": {},
   "source": [
    "## Crate Parsing"
   ]
  },
  {
   "cell_type": "code",
   "execution_count": 162,
   "metadata": {},
   "outputs": [
    {
     "name": "stdout",
     "output_type": "stream",
     "text": [
      "VCTFTJQCG\n"
     ]
    }
   ],
   "source": [
    "# Parsing Crates\n",
    "crate_strings = crates_input.split(\"\\n\")\n",
    "procedure_strings = procedure_input.split(\"\\n\")\n",
    "\n",
    "total_stacks = len(crate_strings[-1].split())\n",
    "crate_strings.pop()\n",
    "\n",
    "crates = []\n",
    "for crate_str in crate_strings:\n",
    "    crates_row = [crate.strip() for crate in split_line(4,crate_str)]\n",
    "    crates.append(crates_row)\n",
    "\n",
    "stacks = []\n",
    "for i in range(total_stacks):\n",
    "\n",
    "    crate_stack = [crate[i] for crate in crates]\n",
    "    crate_stack.reverse()\n",
    "    crate_stack = [x for x in crate_stack if x]\n",
    "    stacks.append(crate_stack)\n",
    "\n",
    "# Parsing Moves\n",
    "parsed_sentences = [word.split(\" \") for word in procedure_input.split(\"\\n\")]\n",
    "instructions = []\n",
    "\n",
    "del parsed_sentences[-1:]\n",
    "for sentence in parsed_sentences:\n",
    "    instructions.append(list(map(int, [sentence[1],sentence[3],sentence[5]])))\n",
    "\n",
    "\n",
    "# Moving\n",
    "for inst in instructions:\n",
    "    for i in range(inst[0]):\n",
    "        held = stacks[inst[1]-1].pop()\n",
    "        stacks[inst[2]-1].append(held)\n",
    "\n",
    "# Print Final\n",
    "final_crates = \"\"\n",
    "for stack in stacks:\n",
    "    final_crates += str(stack[-1:][0][1])\n",
    "print(final_crates)\n",
    "\n"
   ]
  },
  {
   "cell_type": "markdown",
   "metadata": {},
   "source": [
    "# Part 2"
   ]
  },
  {
   "cell_type": "code",
   "execution_count": 183,
   "metadata": {},
   "outputs": [
    {
     "name": "stdout",
     "output_type": "stream",
     "text": [
      "[['[H]', '[G]', '[W]', '[J]', '[R]', '[P]', '[M]', '[V]', '[G]'], ['[C]'], ['[F]'], ['[H]', '[G]'], ['[L]'], ['[F]', '[T]', '[D]'], ['[J]', '[C]', '[H]', '[M]', '[T]', '[N]', '[N]'], ['[H]', '[T]', '[B]', '[P]', '[N]', '[C]', '[D]', '[L]', '[V]', '[Q]', '[S]', '[R]', '[F]', '[C]', '[N]', '[F]', '[M]', '[Q]', '[D]', '[S]', '[R]', '[Z]', '[F]', '[L]', '[V]', '[G]', '[J]'], ['[T]', '[P]', '[H]', '[V]', '[Z]']]\n",
      "GCFGLDNJZ\n"
     ]
    }
   ],
   "source": [
    "# Parsing Crates\n",
    "crate_strings = crates_input.split(\"\\n\")\n",
    "procedure_strings = procedure_input.split(\"\\n\")\n",
    "\n",
    "total_stacks = len(crate_strings[-1].split())\n",
    "crate_strings.pop()\n",
    "\n",
    "crates = []\n",
    "for crate_str in crate_strings:\n",
    "    crates_row = [crate.strip() for crate in split_line(4,crate_str)]\n",
    "    crates.append(crates_row)\n",
    "\n",
    "stacks = []\n",
    "for i in range(total_stacks):\n",
    "\n",
    "    crate_stack = [crate[i] for crate in crates]\n",
    "    crate_stack.reverse()\n",
    "    crate_stack = [x for x in crate_stack if x]\n",
    "    stacks.append(crate_stack)\n",
    "\n",
    "# Parsing Moves\n",
    "parsed_sentences = [word.split(\" \") for word in procedure_input.split(\"\\n\")]\n",
    "instructions = []\n",
    "\n",
    "for sentence in parsed_sentences:\n",
    "    instructions.append(list(map(int, [sentence[1],sentence[3],sentence[5]])))\n",
    "\n",
    "\n",
    "# Moving\n",
    "for inst in instructions:\n",
    "    held = stacks[inst[1]-1][-inst[0]:]\n",
    "\n",
    "    if len(stacks[inst[1]-1]) > 0:\n",
    "        del stacks[inst[1]-1][-inst[0]:]\n",
    "    stacks[inst[2]-1].extend(held)\n",
    "\n",
    "# Print Final\n",
    "final_crates = \"\"\n",
    "for stack in stacks:\n",
    "    final_crates += str(stack[-1:][0][1])\n",
    "print(final_crates)"
   ]
  }
 ],
 "metadata": {
  "kernelspec": {
   "display_name": "Python 3.11.0 64-bit",
   "language": "python",
   "name": "python3"
  },
  "language_info": {
   "codemirror_mode": {
    "name": "ipython",
    "version": 3
   },
   "file_extension": ".py",
   "mimetype": "text/x-python",
   "name": "python",
   "nbconvert_exporter": "python",
   "pygments_lexer": "ipython3",
   "version": "3.11.0"
  },
  "orig_nbformat": 4,
  "vscode": {
   "interpreter": {
    "hash": "aee8b7b246df8f9039afb4144a1f6fd8d2ca17a180786b69acc140d282b71a49"
   }
  }
 },
 "nbformat": 4,
 "nbformat_minor": 2
}

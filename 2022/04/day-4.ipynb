{
 "cells": [
  {
   "cell_type": "markdown",
   "metadata": {},
   "source": [
    "# Input:"
   ]
  },
  {
   "cell_type": "code",
   "execution_count": 1,
   "metadata": {},
   "outputs": [],
   "source": [
    "lines = []"
   ]
  },
  {
   "cell_type": "code",
   "execution_count": 36,
   "metadata": {},
   "outputs": [],
   "source": [
    "if __name__ == \"__main__\":\n",
    "    filename=\"input.txt\"\n",
    "    with open(filename) as f:\n",
    "        lines = [line.rstrip().split(\",\") for line in f]"
   ]
  },
  {
   "cell_type": "code",
   "execution_count": 29,
   "metadata": {},
   "outputs": [],
   "source": [
    "if __name__ == \"__main__\":\n",
    "    filename=\"input-ex.txt\"\n",
    "    with open(filename) as f:\n",
    "        lines = [line.rstrip().split(\",\") for line in f]\n",
    "        "
   ]
  },
  {
   "cell_type": "markdown",
   "metadata": {},
   "source": [
    "# Initial Failure"
   ]
  },
  {
   "cell_type": "code",
   "execution_count": 42,
   "metadata": {},
   "outputs": [
    {
     "name": "stdout",
     "output_type": "stream",
     "text": [
      "535\n"
     ]
    }
   ],
   "source": [
    "overlaps = 0\n",
    "for pairs in lines:\n",
    "    pair1 = pairs[0].split(\"-\")\n",
    "    pair2 = pairs[1].split(\"-\")\n",
    "\n",
    "    if (pair1[0] >= pair2[0]) and (pair1[1] <= pair2[1]):\n",
    "        overlaps += 1\n",
    "    elif (pair2[0] >= pair1[0]) and (pair2[1] <= pair1[1]):\n",
    "        overlaps += 1\n",
    "\n",
    "print(overlaps)\n"
   ]
  },
  {
   "cell_type": "markdown",
   "metadata": {},
   "source": [
    "# Part 1"
   ]
  },
  {
   "cell_type": "code",
   "execution_count": 43,
   "metadata": {},
   "outputs": [
    {
     "name": "stdout",
     "output_type": "stream",
     "text": [
      "466\n"
     ]
    }
   ],
   "source": [
    "overlaps = 0\n",
    "for pairs in lines:\n",
    "    pair1 = pairs[0].split(\"-\")\n",
    "    pair2 = pairs[1].split(\"-\")\n",
    "\n",
    "    set1 = set(list(range(int(pair1[0]),int(pair1[1])+1)))\n",
    "    set2 = set(list(range(int(pair2[0]),int(pair2[1])+1)))\n",
    "\n",
    "    if set1.issubset(set2) or set2.issubset(set1):\n",
    "        overlaps += 1\n",
    "print(overlaps)"
   ]
  },
  {
   "cell_type": "markdown",
   "metadata": {},
   "source": [
    "# Part 2"
   ]
  },
  {
   "cell_type": "code",
   "execution_count": 45,
   "metadata": {},
   "outputs": [
    {
     "name": "stdout",
     "output_type": "stream",
     "text": [
      "865\n"
     ]
    }
   ],
   "source": [
    "overlaps = 0\n",
    "for pairs in lines:\n",
    "    pair1 = pairs[0].split(\"-\")\n",
    "    pair2 = pairs[1].split(\"-\")\n",
    "\n",
    "    set1 = set(list(range(int(pair1[0]),int(pair1[1])+1)))\n",
    "    set2 = set(list(range(int(pair2[0]),int(pair2[1])+1)))\n",
    "\n",
    "    intersections = set1.intersection(set2)\n",
    "    if len(intersections) > 0:\n",
    "        overlaps += 1\n",
    "\n",
    "print(overlaps)"
   ]
  }
 ],
 "metadata": {
  "kernelspec": {
   "display_name": "Python 3",
   "language": "python",
   "name": "python3"
  },
  "language_info": {
   "codemirror_mode": {
    "name": "ipython",
    "version": 3
   },
   "file_extension": ".py",
   "mimetype": "text/x-python",
   "name": "python",
   "nbconvert_exporter": "python",
   "pygments_lexer": "ipython3",
   "version": "3.8.10"
  },
  "orig_nbformat": 4
 },
 "nbformat": 4,
 "nbformat_minor": 2
}

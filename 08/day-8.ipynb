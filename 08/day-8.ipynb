{
 "cells": [
  {
   "cell_type": "code",
   "execution_count": 2,
   "metadata": {},
   "outputs": [],
   "source": [
    "if __name__ == \"__main__\":\n",
    "    filename=\"input.txt\"\n",
    "    with open(filename) as f:\n",
    "        trees =  [list(map(int,list(row))) for row in f.read().split(\"\\n\")]#[line.rstrip() for line in f]\n",
    "\n"
   ]
  },
  {
   "cell_type": "code",
   "execution_count": 4,
   "metadata": {},
   "outputs": [
    {
     "name": "stdout",
     "output_type": "stream",
     "text": [
      "Total visible: 1809\n"
     ]
    }
   ],
   "source": [
    "total_visible = 0 \n",
    "for x in range(len(trees)):\n",
    "    for y in range(len(trees[0])):\n",
    "        if x == 0 or y == 0 or x == len(trees)-1 or y == len(trees[0])-1:\n",
    "            total_visible += 1\n",
    "        else:\n",
    "            height, row, column = trees[x][y],trees[x],[row[y] for row in trees]\n",
    "            # Looking Left, Right, Up, Down\n",
    "            directions = [row[:y][::-1],row[y+1:],column[:x][::-1],column[x+1:]]\n",
    "\n",
    "            visibleDir = 0\n",
    "            for direction in directions:\n",
    "                if max(direction) < height:\n",
    "                    visibleDir += 1\n",
    "\n",
    "            if visibleDir > 0:\n",
    "                total_visible += 1\n",
    "print(\"Total visible: \"+str(total_visible))"
   ]
  },
  {
   "cell_type": "code",
   "execution_count": 89,
   "metadata": {},
   "outputs": [
    {
     "name": "stdout",
     "output_type": "stream",
     "text": [
      "Best Scenic Score is: 479400\n"
     ]
    }
   ],
   "source": [
    "scenicScores = []\n",
    "for x in range(len(trees)):\n",
    "    for y in range(len(trees[0])):\n",
    "        if x == 0 or y == 0 or x == len(trees)-1 or y == len(trees[0])-1:\n",
    "            pass\n",
    "        else:\n",
    "            height, row, column = trees[x][y],trees[x],[row[y] for row in trees]\n",
    "            directions = [row[:y][::-1],row[y+1:],column[:x][::-1],column[x+1:]]\n",
    "\n",
    "            scenicScore = 1\n",
    "            visibleDir = 0\n",
    "            for direction in directions:\n",
    "                lookScore = 0\n",
    "                for tree in direction:\n",
    "                    lookScore += 1\n",
    "                    if tree >= height:\n",
    "                        break\n",
    "                scenicScore *= lookScore\n",
    "            scenicScores.append(scenicScore)\n",
    "\n",
    "print(\"Best Scenic Score is: \"+str(max(scenicScores)))"
   ]
  }
 ],
 "metadata": {
  "kernelspec": {
   "display_name": "Python 3.11.0 64-bit",
   "language": "python",
   "name": "python3"
  },
  "language_info": {
   "codemirror_mode": {
    "name": "ipython",
    "version": 3
   },
   "file_extension": ".py",
   "mimetype": "text/x-python",
   "name": "python",
   "nbconvert_exporter": "python",
   "pygments_lexer": "ipython3",
   "version": "3.11.0"
  },
  "orig_nbformat": 4,
  "vscode": {
   "interpreter": {
    "hash": "aee8b7b246df8f9039afb4144a1f6fd8d2ca17a180786b69acc140d282b71a49"
   }
  }
 },
 "nbformat": 4,
 "nbformat_minor": 2
}
